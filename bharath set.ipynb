{
 "cells": [
  {
   "cell_type": "code",
   "execution_count": 11,
   "metadata": {},
   "outputs": [
    {
     "name": "stdout",
     "output_type": "stream",
     "text": [
      "{'bharath', 4, 1, 'chintu'}\n",
      "{1, 4, 'bharath', 'chintu', 'pinky'}\n",
      "{1, 4, 'bharath', 'chintu', 'pinky'}\n",
      "{False, 1, 4, 'bharath', 'chintu', 'pinky'}\n",
      "{False, 1, 4, 'bharath', 'chintu', 'pinky'}\n"
     ]
    }
   ],
   "source": [
    "set={'bharath',1,4,'chintu'}\n",
    "print(set)\n",
    "set.add('pinky')\n",
    "print(set)\n",
    "set.add(True)\n",
    "print(set)\n",
    "set.add(False)\n",
    "print(set)\n",
    "set.add(0)\n",
    "print(set)"
   ]
  },
  {
   "cell_type": "code",
   "execution_count": null,
   "metadata": {},
   "outputs": [],
   "source": []
  },
  {
   "cell_type": "code",
   "execution_count": null,
   "metadata": {},
   "outputs": [],
   "source": [
    "2.clear()\n",
    "->.This method removes all the elements from the set"
   ]
  },
  {
   "cell_type": "code",
   "execution_count": 52,
   "metadata": {},
   "outputs": [],
   "source": [
    "set={'bharath',1,4,'chintu'}\n",
    "\n",
    "set.clear()\n"
   ]
  },
  {
   "cell_type": "code",
   "execution_count": null,
   "metadata": {},
   "outputs": [],
   "source": [
    "3.copy()\n",
    "->.Returns a copy of set.\n",
    "->.If we modify the original set.The copied set also be modified.\n",
    "->.If we modified the copied set .That the original set remains be same.That means the original cannot be modified."
   ]
  },
  {
   "cell_type": "code",
   "execution_count": 8,
   "metadata": {},
   "outputs": [
    {
     "name": "stdout",
     "output_type": "stream",
     "text": [
      "{'bharath', 4, 1, 'chintu'}\n",
      "{'bharath', 4, 1, 'chintu'}\n"
     ]
    }
   ],
   "source": [
    "set={'bharath',1,4,'chintu'}\n",
    "print(set)\n",
    "print(set.copy())\n"
   ]
  },
  {
   "cell_type": "code",
   "execution_count": null,
   "metadata": {},
   "outputs": [],
   "source": [
    "4.difference()\n",
    "->.this method computes the difference of two sets and returns items that are unique to the first set.\n",
    "->.If we compare A set with B.It returns the different from bothe sets and vice versa."
   ]
  },
  {
   "cell_type": "code",
   "execution_count": 16,
   "metadata": {},
   "outputs": [
    {
     "name": "stdout",
     "output_type": "stream",
     "text": [
      "{1, 2, 3}\n",
      "{5, 6}\n"
     ]
    }
   ],
   "source": [
    "a={1,2,3,4}\n",
    "b={4,5,6}\n",
    "#a.difference(b)\n",
    "#b.difference(a)\n",
    "\n",
    "print(a-b)\n",
    "print(b-a)"
   ]
  },
  {
   "cell_type": "raw",
   "metadata": {},
   "source": [
    "5.discard()\n",
    "->.this methos removes the specified item from the set."
   ]
  },
  {
   "cell_type": "code",
   "execution_count": 22,
   "metadata": {},
   "outputs": [
    {
     "name": "stdout",
     "output_type": "stream",
     "text": [
      "{'bharath', 'Chintu'}\n"
     ]
    }
   ],
   "source": [
    "a={'bharath','Chintu','Pinky'}\n",
    "a.discard('Pinky')\n",
    "print(a)"
   ]
  },
  {
   "cell_type": "code",
   "execution_count": null,
   "metadata": {},
   "outputs": [],
   "source": [
    "6.intersection()\n",
    "->.This method returns a new set with elements that are common to all sets.\n",
    "->.intersection can be performed by using & operator or intersection().\n"
   ]
  },
  {
   "cell_type": "code",
   "execution_count": 27,
   "metadata": {},
   "outputs": [
    {
     "name": "stdout",
     "output_type": "stream",
     "text": [
      "{2, 3, 4}\n",
      "{1, 2, 3, 4, 5, 6}\n"
     ]
    }
   ],
   "source": [
    "a={1,2,3,4,5,6}\n",
    "b={12,2,3,4,23,34}\n",
    "#a.intersection(b)\n",
    "print(a&b)\n",
    "print(a)"
   ]
  },
  {
   "cell_type": "code",
   "execution_count": null,
   "metadata": {},
   "outputs": [],
   "source": [
    "7.intersection_update()\n",
    "->.The intersection_update() finds the intersection of different sets and updates it to the set that calls the method."
   ]
  },
  {
   "cell_type": "code",
   "execution_count": 26,
   "metadata": {},
   "outputs": [
    {
     "name": "stdout",
     "output_type": "stream",
     "text": [
      "{2, 3, 4}\n"
     ]
    }
   ],
   "source": [
    "a={1,2,3,4,5,6}\n",
    "b={12,2,3,4,23,34}\n",
    "a.intersection_update(b)\n",
    "print(a)\n"
   ]
  },
  {
   "cell_type": "code",
   "execution_count": null,
   "metadata": {},
   "outputs": [],
   "source": [
    "8.isdisjoint()\n",
    "->.This method returns True if two sets do not have any common elements between two sets .They are disjoint.Else this return false."
   ]
  },
  {
   "cell_type": "code",
   "execution_count": 28,
   "metadata": {},
   "outputs": [
    {
     "data": {
      "text/plain": [
       "False"
      ]
     },
     "execution_count": 28,
     "metadata": {},
     "output_type": "execute_result"
    }
   ],
   "source": [
    "a={1,2,3,4,5,6}\n",
    "b={12,2,3,4,23,34}\n",
    "a.isdisjoint(b)"
   ]
  },
  {
   "cell_type": "code",
   "execution_count": 31,
   "metadata": {},
   "outputs": [
    {
     "data": {
      "text/plain": [
       "True"
      ]
     },
     "execution_count": 31,
     "metadata": {},
     "output_type": "execute_result"
    }
   ],
   "source": [
    "a={1,43,45,56}\n",
    "b={12,2,3,4,23,34}\n",
    "a.isdisjoint(b)"
   ]
  },
  {
   "cell_type": "code",
   "execution_count": null,
   "metadata": {},
   "outputs": [],
   "source": [
    "9.issubset()\n",
    "->.This method returns Tue ,If set A is the subset of B.i.e., if all the elements of set A are present  in set B.Else,It return False."
   ]
  },
  {
   "cell_type": "code",
   "execution_count": 35,
   "metadata": {},
   "outputs": [
    {
     "data": {
      "text/plain": [
       "True"
      ]
     },
     "execution_count": 35,
     "metadata": {},
     "output_type": "execute_result"
    }
   ],
   "source": [
    "a={2,3}\n",
    "b={2,3,4,23,34}\n",
    "a.issubset(b)"
   ]
  },
  {
   "cell_type": "code",
   "execution_count": null,
   "metadata": {},
   "outputs": [],
   "source": [
    "10.issuperset()\n",
    "->.This method returns True ,if all the elements of A re present in B.Otherwise False"
   ]
  },
  {
   "cell_type": "code",
   "execution_count": 37,
   "metadata": {},
   "outputs": [
    {
     "data": {
      "text/plain": [
       "True"
      ]
     },
     "execution_count": 37,
     "metadata": {},
     "output_type": "execute_result"
    }
   ],
   "source": [
    "a={2,3,4,23,34}\n",
    "b={2,3,4,23,34}\n",
    "a.issuperset(b)"
   ]
  },
  {
   "cell_type": "code",
   "execution_count": null,
   "metadata": {},
   "outputs": [],
   "source": [
    "11.pop()\n",
    "->.This method randomly removes from a set and returns the removied item."
   ]
  },
  {
   "cell_type": "code",
   "execution_count": 55,
   "metadata": {},
   "outputs": [
    {
     "data": {
      "text/plain": [
       "1"
      ]
     },
     "execution_count": 55,
     "metadata": {},
     "output_type": "execute_result"
    }
   ],
   "source": [
    "a={1,2,3,34}\n",
    "a.pop()"
   ]
  },
  {
   "cell_type": "code",
   "execution_count": null,
   "metadata": {},
   "outputs": [],
   "source": [
    "12.remove()\n",
    "->.method removes the specified element from the set"
   ]
  },
  {
   "cell_type": "code",
   "execution_count": 40,
   "metadata": {},
   "outputs": [
    {
     "name": "stdout",
     "output_type": "stream",
     "text": [
      "{1, 3, 4}\n"
     ]
    }
   ],
   "source": [
    "a={1,2,3,4}\n",
    "a.remove(2)\n",
    "print(a)"
   ]
  },
  {
   "cell_type": "code",
   "execution_count": null,
   "metadata": {},
   "outputs": [],
   "source": [
    "13.symmetric_difference()\n",
    "->.This Method returns all the items present in given sets,except the items in their intersects.\n",
    "->.it means it does not includes common items ,it reruns except common items."
   ]
  },
  {
   "cell_type": "code",
   "execution_count": 46,
   "metadata": {},
   "outputs": [
    {
     "data": {
      "text/plain": [
       "{1, 2, 3, 7, 45, 78}"
      ]
     },
     "execution_count": 46,
     "metadata": {},
     "output_type": "execute_result"
    }
   ],
   "source": [
    "a={1,2,3,4,5,6,45}\n",
    "b={4,5,6,7,78}\n",
    "c={1,3,7,6,23,43}\n",
    "a.symmetric_difference(b)\n",
    "#print(a^b^c)\n"
   ]
  },
  {
   "cell_type": "code",
   "execution_count": null,
   "metadata": {},
   "outputs": [],
   "source": [
    "14.symmetric_difference_update()\n",
    "->.This method finds the symmetric difference of two sets(non-similar items of both sets) and updates it to the set that call the method."
   ]
  },
  {
   "cell_type": "code",
   "execution_count": 48,
   "metadata": {},
   "outputs": [
    {
     "name": "stdout",
     "output_type": "stream",
     "text": [
      "{1, 2, 3, 7, 45, 78}\n"
     ]
    }
   ],
   "source": [
    "a={1,2,3,4,5,6,45}\n",
    "b={4,5,6,7,78}\n",
    "c={1,3,7,6,23,43}\n",
    "a.symmetric_difference_update(b)\n",
    "print(a)"
   ]
  },
  {
   "cell_type": "code",
   "execution_count": null,
   "metadata": {},
   "outputs": [],
   "source": [
    "15.union()\n",
    "->.This method returns a new set with distint elements from all  the sets"
   ]
  },
  {
   "cell_type": "code",
   "execution_count": 49,
   "metadata": {},
   "outputs": [
    {
     "data": {
      "text/plain": [
       "{1, 2, 3, 4, 5, 6, 7, 23, 43, 45, 78}"
      ]
     },
     "execution_count": 49,
     "metadata": {},
     "output_type": "execute_result"
    }
   ],
   "source": [
    "a={1,2,3,4,5,6,45}\n",
    "b={4,5,6,7,78}\n",
    "c={1,3,7,6,23,43}\n",
    "a.union(b,c)"
   ]
  },
  {
   "cell_type": "code",
   "execution_count": null,
   "metadata": {},
   "outputs": [],
   "source": [
    "16.update()\n",
    "->.This method updates the set,adding items from other iterables"
   ]
  },
  {
   "cell_type": "code",
   "execution_count": 51,
   "metadata": {},
   "outputs": [
    {
     "name": "stdout",
     "output_type": "stream",
     "text": [
      "{1, 2, 3, 4, 5, 6, 45, 'bharath', 'pinky', 'chintu'}\n"
     ]
    }
   ],
   "source": [
    "a={1,2,3,4,5,6,45}\n",
    "b=['bharath','chintu','pinky']\n",
    "a.update(b)\n",
    "print(a)"
   ]
  },
  {
   "cell_type": "code",
   "execution_count": null,
   "metadata": {},
   "outputs": [],
   "source": []
  }
 ],
 "metadata": {
  "kernelspec": {
   "display_name": "Python 3",
   "language": "python",
   "name": "python3"
  },
  "language_info": {
   "codemirror_mode": {
    "name": "ipython",
    "version": 3
   },
   "file_extension": ".py",
   "mimetype": "text/x-python",
   "name": "python",
   "nbconvert_exporter": "python",
   "pygments_lexer": "ipython3",
   "version": "3.8.5"
  }
 },
 "nbformat": 4,
 "nbformat_minor": 4
}
